{
  "nbformat": 4,
  "nbformat_minor": 0,
  "metadata": {
    "colab": {
      "name": "netcdf_wrf_data.ipynb",
      "provenance": [],
      "toc_visible": true
    },
    "kernelspec": {
      "display_name": "Python 3",
      "name": "python3"
    }
  },
  "cells": [
    {
      "cell_type": "code",
      "metadata": {
        "colab": {
          "base_uri": "https://localhost:8080/"
        },
        "id": "w6mg2UYSeVYO",
        "outputId": "77464b42-6cda-43fb-e3db-1094983894f6"
      },
      "source": [
        "!wget https://s3.us-east-2.amazonaws.com/wrfwindout.d03.1992-01-01/wrftest/wrfwindout_d03_1992_10days.tar.gz\n",
        "!tar xvzf wrfwindout_d03_1992_10days.tar.gz"
      ],
      "execution_count": null,
      "outputs": [
        {
          "output_type": "stream",
          "text": [
            "--2021-02-23 18:50:58--  https://s3.us-east-2.amazonaws.com/wrfwindout.d03.1992-01-01/wrftest/wrfwindout_d03_1992_10days.tar.gz\n",
            "Resolving s3.us-east-2.amazonaws.com (s3.us-east-2.amazonaws.com)... 52.219.101.193\n",
            "Connecting to s3.us-east-2.amazonaws.com (s3.us-east-2.amazonaws.com)|52.219.101.193|:443... connected.\n",
            "HTTP request sent, awaiting response... 200 OK\n",
            "Length: 84398686 (80M) [application/x-gzip]\n",
            "Saving to: ‘wrfwindout_d03_1992_10days.tar.gz’\n",
            "\n",
            "wrfwindout_d03_1992 100%[===================>]  80.49M  24.7MB/s    in 3.3s    \n",
            "\n",
            "2021-02-23 18:51:02 (24.7 MB/s) - ‘wrfwindout_d03_1992_10days.tar.gz’ saved [84398686/84398686]\n",
            "\n",
            "wrfwindout_d03_1992-01-01_00_00_00\n",
            "wrfwindout_d03_1992-01-02_00_00_00\n",
            "wrfwindout_d03_1992-01-03_00_00_00\n",
            "wrfwindout_d03_1992-01-04_00_00_00\n",
            "wrfwindout_d03_1992-01-05_00_00_00\n",
            "wrfwindout_d03_1992-01-06_00_00_00\n",
            "wrfwindout_d03_1992-01-07_00_00_00\n",
            "wrfwindout_d03_1992-01-08_00_00_00\n",
            "wrfwindout_d03_1992-01-09_00_00_00\n",
            "wrfwindout_d03_1992-01-10_00_00_00\n"
          ],
          "name": "stdout"
        }
      ]
    },
    {
      "cell_type": "code",
      "metadata": {
        "colab": {
          "base_uri": "https://localhost:8080/"
        },
        "id": "3IFbTHFofbM5",
        "outputId": "fb6775fa-1606-4731-ee2e-73997d3b494f"
      },
      "source": [
        "!pip install netCDF4"
      ],
      "execution_count": null,
      "outputs": [
        {
          "output_type": "stream",
          "text": [
            "Collecting netCDF4\n",
            "\u001b[?25l  Downloading https://files.pythonhosted.org/packages/37/56/f65978898fb8e7e5df9c67531d86eb24eb04938deae3b61dbcce12c98212/netCDF4-1.5.6-cp37-cp37m-manylinux2014_x86_64.whl (4.7MB)\n",
            "\u001b[K     |████████████████████████████████| 4.7MB 12.8MB/s \n",
            "\u001b[?25hCollecting cftime\n",
            "\u001b[?25l  Downloading https://files.pythonhosted.org/packages/41/e0/3e120cca16571c5ee3b35f1ed432c2aae5dc91e2b789e8b9c3a70e721ea0/cftime-1.4.1-cp37-cp37m-manylinux2014_x86_64.whl (313kB)\n",
            "\u001b[K     |████████████████████████████████| 317kB 42.5MB/s \n",
            "\u001b[?25hRequirement already satisfied: numpy>=1.9 in /usr/local/lib/python3.7/dist-packages (from netCDF4) (1.19.5)\n",
            "Installing collected packages: cftime, netCDF4\n",
            "Successfully installed cftime-1.4.1 netCDF4-1.5.6\n"
          ],
          "name": "stdout"
        }
      ]
    },
    {
      "cell_type": "code",
      "metadata": {
        "id": "lpYH6tiggM7U"
      },
      "source": [
        "import netCDF4 as nc\n",
        "import numpy as np\n",
        "import pandas as pd\n",
        "from datetime import datetime\n",
        "import matplotlib\n",
        "import matplotlib.pyplot as plt"
      ],
      "execution_count": null,
      "outputs": []
    },
    {
      "cell_type": "code",
      "metadata": {
        "colab": {
          "base_uri": "https://localhost:8080/"
        },
        "id": "z43Pm7L7j04C",
        "outputId": "0fb42ed1-08d1-4ae6-ecb5-7eac9ae93581"
      },
      "source": [
        "print(np.__version__)"
      ],
      "execution_count": null,
      "outputs": [
        {
          "output_type": "stream",
          "text": [
            "1.19.5\n"
          ],
          "name": "stdout"
        }
      ]
    },
    {
      "cell_type": "markdown",
      "metadata": {
        "id": "MHs-jGnmsVDC"
      },
      "source": [
        "## Check one file (with one-day data)"
      ]
    },
    {
      "cell_type": "markdown",
      "metadata": {
        "id": "_G4OF4IHR8qb"
      },
      "source": [
        "### Extract the data for timestamps"
      ]
    },
    {
      "cell_type": "code",
      "metadata": {
        "id": "9BXnaw0zgURD"
      },
      "source": [
        "fn_windout = \"/content/wrfwindout_d03_1992-01-01_00_00_00\"\n",
        "ds_windout = nc.Dataset(fn_windout)"
      ],
      "execution_count": null,
      "outputs": []
    },
    {
      "cell_type": "code",
      "metadata": {
        "colab": {
          "base_uri": "https://localhost:8080/"
        },
        "id": "Qxt-dabHfKQW",
        "outputId": "0ab8a1d9-ebf6-4801-d8e1-74c6b8cd5e59"
      },
      "source": [
        "print(ds_windout.variables.keys())"
      ],
      "execution_count": null,
      "outputs": [
        {
          "output_type": "stream",
          "text": [
            "dict_keys(['Times', 'RHO_HGTM', 'U_HGTM', 'V_HGTM', 'WNDSPD_AVG_100M', 'WNDSPD_AVG_10M'])\n"
          ],
          "name": "stdout"
        }
      ]
    },
    {
      "cell_type": "code",
      "metadata": {
        "colab": {
          "base_uri": "https://localhost:8080/"
        },
        "id": "FhZMdkadhqrq",
        "outputId": "7655ceb0-3b86-4f03-d050-694e19154097"
      },
      "source": [
        "times = ds_windout['Times'][:]\n",
        "print(\"Times shape: \", times.shape)\n",
        "print(\"Times[2] data: \", times[2].tobytes().decode())"
      ],
      "execution_count": null,
      "outputs": [
        {
          "output_type": "stream",
          "text": [
            "Times shape:  (24, 19)\n",
            "Times[2] data:  1992-01-01_02:00:00\n"
          ],
          "name": "stdout"
        }
      ]
    },
    {
      "cell_type": "code",
      "metadata": {
        "colab": {
          "base_uri": "https://localhost:8080/"
        },
        "id": "vefNYNzOnq3s",
        "outputId": "06e49619-68e9-40fe-97de-616e5e39274c"
      },
      "source": [
        "ts = []\n",
        "for t in times:\n",
        "    tstr = t.tobytes().decode()\n",
        "    tdts = datetime.strptime(tstr, '%Y-%m-%d_%H:%M:%S')\n",
        "    ts.append(tdts)\n",
        "print(ts)"
      ],
      "execution_count": null,
      "outputs": [
        {
          "output_type": "stream",
          "text": [
            "[datetime.datetime(1992, 1, 1, 0, 0), datetime.datetime(1992, 1, 1, 1, 0), datetime.datetime(1992, 1, 1, 2, 0), datetime.datetime(1992, 1, 1, 3, 0), datetime.datetime(1992, 1, 1, 4, 0), datetime.datetime(1992, 1, 1, 5, 0), datetime.datetime(1992, 1, 1, 6, 0), datetime.datetime(1992, 1, 1, 7, 0), datetime.datetime(1992, 1, 1, 8, 0), datetime.datetime(1992, 1, 1, 9, 0), datetime.datetime(1992, 1, 1, 10, 0), datetime.datetime(1992, 1, 1, 11, 0), datetime.datetime(1992, 1, 1, 12, 0), datetime.datetime(1992, 1, 1, 13, 0), datetime.datetime(1992, 1, 1, 14, 0), datetime.datetime(1992, 1, 1, 15, 0), datetime.datetime(1992, 1, 1, 16, 0), datetime.datetime(1992, 1, 1, 17, 0), datetime.datetime(1992, 1, 1, 18, 0), datetime.datetime(1992, 1, 1, 19, 0), datetime.datetime(1992, 1, 1, 20, 0), datetime.datetime(1992, 1, 1, 21, 0), datetime.datetime(1992, 1, 1, 22, 0), datetime.datetime(1992, 1, 1, 23, 0)]\n"
          ],
          "name": "stdout"
        }
      ]
    },
    {
      "cell_type": "markdown",
      "metadata": {
        "id": "LXjxTk4GRUms"
      },
      "source": [
        "### Wind speed data on one spot without considering neighbors"
      ]
    },
    {
      "cell_type": "code",
      "metadata": {
        "colab": {
          "base_uri": "https://localhost:8080/"
        },
        "id": "HEKOsEWrgwqy",
        "outputId": "d74f0444-a4dd-4ba8-bfa1-83f069ba3b2c"
      },
      "source": [
        "wndspd_avg_10m = ds_windout['WNDSPD_AVG_10M'][:]\n",
        "print('WNDSPD_AVG_10M shape:', wndspd_avg_10m.shape)\n",
        "print('WNDSPD_AVG_10M at grid index of [100, 90]: \\n', wndspd_avg_10m[:,100, 90])"
      ],
      "execution_count": null,
      "outputs": [
        {
          "output_type": "stream",
          "text": [
            "WNDSPD_AVG_10M shape: (24, 144, 138)\n",
            "WNDSPD_AVG_10M at grid index of [100, 90]: \n",
            " [4.5143094 4.6068125 5.607519  5.845291  5.6617923 5.3598833 4.5652494\n",
            " 4.6760983 4.524302  4.370231  4.042331  3.5633156 3.2635539 3.518132\n",
            " 4.0297794 3.777819  3.299952  3.374463  3.2556567 3.926377  4.9187202\n",
            " 5.3559947 6.2512712 6.864123 ]\n"
          ],
          "name": "stdout"
        }
      ]
    },
    {
      "cell_type": "code",
      "metadata": {
        "colab": {
          "base_uri": "https://localhost:8080/",
          "height": 204
        },
        "id": "5R1c6SG9nY43",
        "outputId": "ac86ef27-4dba-4ca4-fa83-1fe647c0bd8c"
      },
      "source": [
        "df = pd.DataFrame({'ds':ts, 'y':wndspd_avg_10m[:,100, 90]})\n",
        "df.head()"
      ],
      "execution_count": null,
      "outputs": [
        {
          "output_type": "execute_result",
          "data": {
            "text/html": [
              "<div>\n",
              "<style scoped>\n",
              "    .dataframe tbody tr th:only-of-type {\n",
              "        vertical-align: middle;\n",
              "    }\n",
              "\n",
              "    .dataframe tbody tr th {\n",
              "        vertical-align: top;\n",
              "    }\n",
              "\n",
              "    .dataframe thead th {\n",
              "        text-align: right;\n",
              "    }\n",
              "</style>\n",
              "<table border=\"1\" class=\"dataframe\">\n",
              "  <thead>\n",
              "    <tr style=\"text-align: right;\">\n",
              "      <th></th>\n",
              "      <th>ds</th>\n",
              "      <th>y</th>\n",
              "    </tr>\n",
              "  </thead>\n",
              "  <tbody>\n",
              "    <tr>\n",
              "      <th>0</th>\n",
              "      <td>1992-01-01 00:00:00</td>\n",
              "      <td>4.514309</td>\n",
              "    </tr>\n",
              "    <tr>\n",
              "      <th>1</th>\n",
              "      <td>1992-01-01 01:00:00</td>\n",
              "      <td>4.606812</td>\n",
              "    </tr>\n",
              "    <tr>\n",
              "      <th>2</th>\n",
              "      <td>1992-01-01 02:00:00</td>\n",
              "      <td>5.607519</td>\n",
              "    </tr>\n",
              "    <tr>\n",
              "      <th>3</th>\n",
              "      <td>1992-01-01 03:00:00</td>\n",
              "      <td>5.845291</td>\n",
              "    </tr>\n",
              "    <tr>\n",
              "      <th>4</th>\n",
              "      <td>1992-01-01 04:00:00</td>\n",
              "      <td>5.661792</td>\n",
              "    </tr>\n",
              "  </tbody>\n",
              "</table>\n",
              "</div>"
            ],
            "text/plain": [
              "                   ds         y\n",
              "0 1992-01-01 00:00:00  4.514309\n",
              "1 1992-01-01 01:00:00  4.606812\n",
              "2 1992-01-01 02:00:00  5.607519\n",
              "3 1992-01-01 03:00:00  5.845291\n",
              "4 1992-01-01 04:00:00  5.661792"
            ]
          },
          "metadata": {
            "tags": []
          },
          "execution_count": 10
        }
      ]
    },
    {
      "cell_type": "code",
      "metadata": {
        "colab": {
          "base_uri": "https://localhost:8080/",
          "height": 304
        },
        "id": "se4zEWcJrJWz",
        "outputId": "c6c0dab6-4916-4f29-a935-3df9ced156fd"
      },
      "source": [
        "df.plot(x='ds', y='y')\n",
        "plt.xlabel('Time')\n",
        "plt.ylabel(\"Wind Avg Spd\")\n",
        "plt.legend(['From WRF'])\n",
        "plt.show()"
      ],
      "execution_count": null,
      "outputs": [
        {
          "output_type": "display_data",
          "data": {
            "image/png": "[encoded data removed]",
            "text/plain": [
              "<Figure size 432x288 with 1 Axes>"
            ]
          },
          "metadata": {
            "tags": [],
            "needs_background": "light"
          }
        }
      ]
    },
    {
      "cell_type": "markdown",
      "metadata": {
        "id": "lfMzmpSrWRVy"
      },
      "source": [
        "### Considering Neighbors"
      ]
    },
    {
      "cell_type": "code",
      "metadata": {
        "id": "Gh3XEKkhWhqf"
      },
      "source": [
        "rho_hgtm = ds_windout['RHO_HGTM'][:]\n",
        "u_hgtm = ds_windout['U_HGTM'][:]\n",
        "v_hgtm = ds_windout['V_HGTM'][:]\n",
        "wndspd_avg_10m = ds_windout['WNDSPD_AVG_10M'][:]\n",
        "wndspd_avg_100m = ds_windout['WNDSPD_AVG_100M'][:]"
      ],
      "execution_count": null,
      "outputs": []
    },
    {
      "cell_type": "code",
      "metadata": {
        "id": "hEaoT49FWMx6"
      },
      "source": [
        "nb_layer = 1\n",
        "i = 100\n",
        "j = 90"
      ],
      "execution_count": null,
      "outputs": []
    },
    {
      "cell_type": "code",
      "metadata": {
        "colab": {
          "base_uri": "https://localhost:8080/"
        },
        "id": "11FIlNQuhilX",
        "outputId": "9e1bab0c-ff27-4d96-c1cc-d94fa07f0b6f"
      },
      "source": [
        "# Generating the neighboring indices\n",
        "'''\n",
        "Example: when nb_layer = 1:\n",
        "  1 (i-1,j-1)  |  2 (i-1,j)  |   3 (i-1,j+1)\n",
        "-----------------------------------------------\n",
        "  4 (i,  j-1)  |  0 (i,  j)  |   5 (i,  j+1)\n",
        "-----------------------------------------------\n",
        "  6 (i+1,j-1)  |  7 (i+1,j)  |   8 (i+1,j+1)\n",
        " '''\n",
        "nb_list = [[i, j]] # center grid as element 0\n",
        "\n",
        "for nbi in np.arange(-nb_layer, nb_layer+1):\n",
        "  for nbj in np.arange(-nb_layer, nb_layer+1):\n",
        "    if (nbi==0 and nbj==0): continue\n",
        "    nb_list = np.append(nb_list, [[i+nbi, j+nbj]], axis=0)\n",
        "print(nb_list)"
      ],
      "execution_count": null,
      "outputs": [
        {
          "output_type": "stream",
          "text": [
            "[[100  90]\n",
            " [ 99  89]\n",
            " [ 99  90]\n",
            " [ 99  91]\n",
            " [100  89]\n",
            " [100  91]\n",
            " [101  89]\n",
            " [101  90]\n",
            " [101  91]]\n"
          ],
          "name": "stdout"
        }
      ]
    },
    {
      "cell_type": "code",
      "metadata": {
        "colab": {
          "base_uri": "https://localhost:8080/",
          "height": 394
        },
        "id": "m0tfOwQuquFv",
        "outputId": "28f751c1-716e-437a-e43a-3efdb348f966"
      },
      "source": [
        "df = pd.DataFrame({'ds':ts})\n",
        "\n",
        "for idx in range(len(nb_list)):\n",
        "    ci = nb_list[idx]\n",
        "    rho = rho_hgtm[:, ci[0], ci[1]]\n",
        "    u = u_hgtm[:, ci[0], ci[1]]\n",
        "    v = v_hgtm[:, ci[0], ci[1]]\n",
        "    wa = wndspd_avg_100m[:, ci[0], ci[1]]\n",
        "    df['rho_'+str(idx)] = rho\n",
        "    df['u_'+str(idx)] = u\n",
        "    df['v_'+str(idx)] = v\n",
        "    df['wa_'+str(idx)] = wa\n",
        "df.head()"
      ],
      "execution_count": null,
      "outputs": [
        {
          "output_type": "execute_result",
          "data": {
            "text/html": [
              "<div>\n",
              "<style scoped>\n",
              "    .dataframe tbody tr th:only-of-type {\n",
              "        vertical-align: middle;\n",
              "    }\n",
              "\n",
              "    .dataframe tbody tr th {\n",
              "        vertical-align: top;\n",
              "    }\n",
              "\n",
              "    .dataframe thead th {\n",
              "        text-align: right;\n",
              "    }\n",
              "</style>\n",
              "<table border=\"1\" class=\"dataframe\">\n",
              "  <thead>\n",
              "    <tr style=\"text-align: right;\">\n",
              "      <th></th>\n",
              "      <th>ds</th>\n",
              "      <th>rho_0</th>\n",
              "      <th>u_0</th>\n",
              "      <th>v_0</th>\n",
              "      <th>wa_0</th>\n",
              "      <th>rho_1</th>\n",
              "      <th>u_1</th>\n",
              "      <th>v_1</th>\n",
              "      <th>wa_1</th>\n",
              "      <th>rho_2</th>\n",
              "      <th>u_2</th>\n",
              "      <th>v_2</th>\n",
              "      <th>wa_2</th>\n",
              "      <th>rho_3</th>\n",
              "      <th>u_3</th>\n",
              "      <th>v_3</th>\n",
              "      <th>wa_3</th>\n",
              "      <th>rho_4</th>\n",
              "      <th>u_4</th>\n",
              "      <th>v_4</th>\n",
              "      <th>wa_4</th>\n",
              "      <th>rho_5</th>\n",
              "      <th>u_5</th>\n",
              "      <th>v_5</th>\n",
              "      <th>wa_5</th>\n",
              "      <th>rho_6</th>\n",
              "      <th>u_6</th>\n",
              "      <th>v_6</th>\n",
              "      <th>wa_6</th>\n",
              "      <th>rho_7</th>\n",
              "      <th>u_7</th>\n",
              "      <th>v_7</th>\n",
              "      <th>wa_7</th>\n",
              "      <th>rho_8</th>\n",
              "      <th>u_8</th>\n",
              "      <th>v_8</th>\n",
              "      <th>wa_8</th>\n",
              "    </tr>\n",
              "  </thead>\n",
              "  <tbody>\n",
              "    <tr>\n",
              "      <th>0</th>\n",
              "      <td>1992-01-01 00:00:00</td>\n",
              "      <td>1.131430</td>\n",
              "      <td>-6.258254</td>\n",
              "      <td>-0.662391</td>\n",
              "      <td>6.137932</td>\n",
              "      <td>1.135103</td>\n",
              "      <td>-6.034837</td>\n",
              "      <td>-0.450405</td>\n",
              "      <td>5.861002</td>\n",
              "      <td>1.134012</td>\n",
              "      <td>-6.133881</td>\n",
              "      <td>-0.531081</td>\n",
              "      <td>5.878819</td>\n",
              "      <td>1.133040</td>\n",
              "      <td>-6.185008</td>\n",
              "      <td>-0.621642</td>\n",
              "      <td>5.921554</td>\n",
              "      <td>1.131688</td>\n",
              "      <td>-6.331424</td>\n",
              "      <td>-0.600144</td>\n",
              "      <td>6.223226</td>\n",
              "      <td>1.130805</td>\n",
              "      <td>-6.246516</td>\n",
              "      <td>-0.694190</td>\n",
              "      <td>6.106830</td>\n",
              "      <td>1.126822</td>\n",
              "      <td>-6.508084</td>\n",
              "      <td>-0.662896</td>\n",
              "      <td>6.444704</td>\n",
              "      <td>1.127318</td>\n",
              "      <td>-6.304911</td>\n",
              "      <td>-0.719466</td>\n",
              "      <td>6.274328</td>\n",
              "      <td>1.127363</td>\n",
              "      <td>-6.263430</td>\n",
              "      <td>-0.680336</td>\n",
              "      <td>6.190054</td>\n",
              "    </tr>\n",
              "    <tr>\n",
              "      <th>1</th>\n",
              "      <td>1992-01-01 01:00:00</td>\n",
              "      <td>1.132985</td>\n",
              "      <td>-7.354509</td>\n",
              "      <td>-0.901965</td>\n",
              "      <td>6.668013</td>\n",
              "      <td>1.136635</td>\n",
              "      <td>-7.039205</td>\n",
              "      <td>-0.629925</td>\n",
              "      <td>6.372119</td>\n",
              "      <td>1.135700</td>\n",
              "      <td>-7.105494</td>\n",
              "      <td>-0.762597</td>\n",
              "      <td>6.447479</td>\n",
              "      <td>1.134848</td>\n",
              "      <td>-7.229098</td>\n",
              "      <td>-0.882815</td>\n",
              "      <td>6.595722</td>\n",
              "      <td>1.133090</td>\n",
              "      <td>-7.351449</td>\n",
              "      <td>-0.777487</td>\n",
              "      <td>6.688179</td>\n",
              "      <td>1.132482</td>\n",
              "      <td>-7.433272</td>\n",
              "      <td>-0.966665</td>\n",
              "      <td>6.755906</td>\n",
              "      <td>1.128174</td>\n",
              "      <td>-7.545772</td>\n",
              "      <td>-0.874647</td>\n",
              "      <td>6.912114</td>\n",
              "      <td>1.128792</td>\n",
              "      <td>-7.464809</td>\n",
              "      <td>-0.976139</td>\n",
              "      <td>6.800765</td>\n",
              "      <td>1.128958</td>\n",
              "      <td>-7.497114</td>\n",
              "      <td>-0.972461</td>\n",
              "      <td>6.846753</td>\n",
              "    </tr>\n",
              "    <tr>\n",
              "      <th>2</th>\n",
              "      <td>1992-01-01 02:00:00</td>\n",
              "      <td>1.135705</td>\n",
              "      <td>-8.324902</td>\n",
              "      <td>-1.278185</td>\n",
              "      <td>8.015716</td>\n",
              "      <td>1.139456</td>\n",
              "      <td>-8.130767</td>\n",
              "      <td>-0.731323</td>\n",
              "      <td>7.727880</td>\n",
              "      <td>1.138522</td>\n",
              "      <td>-8.084369</td>\n",
              "      <td>-0.793804</td>\n",
              "      <td>7.751853</td>\n",
              "      <td>1.137653</td>\n",
              "      <td>-8.142122</td>\n",
              "      <td>-0.865207</td>\n",
              "      <td>7.844580</td>\n",
              "      <td>1.135836</td>\n",
              "      <td>-8.407112</td>\n",
              "      <td>-1.179311</td>\n",
              "      <td>8.047176</td>\n",
              "      <td>1.135182</td>\n",
              "      <td>-8.324851</td>\n",
              "      <td>-1.332862</td>\n",
              "      <td>8.047915</td>\n",
              "      <td>1.131004</td>\n",
              "      <td>-8.617728</td>\n",
              "      <td>-1.655282</td>\n",
              "      <td>8.211569</td>\n",
              "      <td>1.131542</td>\n",
              "      <td>-8.496778</td>\n",
              "      <td>-1.673017</td>\n",
              "      <td>8.121314</td>\n",
              "      <td>1.131664</td>\n",
              "      <td>-8.469800</td>\n",
              "      <td>-1.591590</td>\n",
              "      <td>8.117480</td>\n",
              "    </tr>\n",
              "    <tr>\n",
              "      <th>3</th>\n",
              "      <td>1992-01-01 03:00:00</td>\n",
              "      <td>1.138608</td>\n",
              "      <td>-8.048993</td>\n",
              "      <td>-1.097896</td>\n",
              "      <td>8.338034</td>\n",
              "      <td>1.142227</td>\n",
              "      <td>-8.222049</td>\n",
              "      <td>-0.959868</td>\n",
              "      <td>8.245147</td>\n",
              "      <td>1.141279</td>\n",
              "      <td>-8.040666</td>\n",
              "      <td>-0.875497</td>\n",
              "      <td>8.178553</td>\n",
              "      <td>1.140396</td>\n",
              "      <td>-7.948764</td>\n",
              "      <td>-0.799704</td>\n",
              "      <td>8.183114</td>\n",
              "      <td>1.138705</td>\n",
              "      <td>-8.273804</td>\n",
              "      <td>-1.099632</td>\n",
              "      <td>8.449685</td>\n",
              "      <td>1.138087</td>\n",
              "      <td>-7.969768</td>\n",
              "      <td>-1.075851</td>\n",
              "      <td>8.304811</td>\n",
              "      <td>1.133794</td>\n",
              "      <td>-8.296639</td>\n",
              "      <td>-1.512153</td>\n",
              "      <td>8.724327</td>\n",
              "      <td>1.134367</td>\n",
              "      <td>-8.078391</td>\n",
              "      <td>-1.491621</td>\n",
              "      <td>8.557535</td>\n",
              "      <td>1.134490</td>\n",
              "      <td>-8.028662</td>\n",
              "      <td>-1.398801</td>\n",
              "      <td>8.479977</td>\n",
              "    </tr>\n",
              "    <tr>\n",
              "      <th>4</th>\n",
              "      <td>1992-01-01 04:00:00</td>\n",
              "      <td>1.140653</td>\n",
              "      <td>-7.803408</td>\n",
              "      <td>-2.030352</td>\n",
              "      <td>8.056617</td>\n",
              "      <td>1.144496</td>\n",
              "      <td>-7.824979</td>\n",
              "      <td>-1.710499</td>\n",
              "      <td>8.194478</td>\n",
              "      <td>1.143516</td>\n",
              "      <td>-7.677676</td>\n",
              "      <td>-1.654038</td>\n",
              "      <td>7.978544</td>\n",
              "      <td>1.142567</td>\n",
              "      <td>-7.682670</td>\n",
              "      <td>-1.661501</td>\n",
              "      <td>7.902620</td>\n",
              "      <td>1.140814</td>\n",
              "      <td>-7.908365</td>\n",
              "      <td>-1.997609</td>\n",
              "      <td>8.258303</td>\n",
              "      <td>1.140075</td>\n",
              "      <td>-7.830942</td>\n",
              "      <td>-2.030288</td>\n",
              "      <td>8.007588</td>\n",
              "      <td>1.135696</td>\n",
              "      <td>-7.972743</td>\n",
              "      <td>-2.490464</td>\n",
              "      <td>8.346336</td>\n",
              "      <td>1.136249</td>\n",
              "      <td>-7.784311</td>\n",
              "      <td>-2.466712</td>\n",
              "      <td>8.131044</td>\n",
              "      <td>1.136346</td>\n",
              "      <td>-7.744304</td>\n",
              "      <td>-2.262531</td>\n",
              "      <td>8.051309</td>\n",
              "    </tr>\n",
              "  </tbody>\n",
              "</table>\n",
              "</div>"
            ],
            "text/plain": [
              "                   ds     rho_0       u_0  ...       u_8       v_8      wa_8\n",
              "0 1992-01-01 00:00:00  1.131430 -6.258254  ... -6.263430 -0.680336  6.190054\n",
              "1 1992-01-01 01:00:00  1.132985 -7.354509  ... -7.497114 -0.972461  6.846753\n",
              "2 1992-01-01 02:00:00  1.135705 -8.324902  ... -8.469800 -1.591590  8.117480\n",
              "3 1992-01-01 03:00:00  1.138608 -8.048993  ... -8.028662 -1.398801  8.479977\n",
              "4 1992-01-01 04:00:00  1.140653 -7.803408  ... -7.744304 -2.262531  8.051309\n",
              "\n",
              "[5 rows x 37 columns]"
            ]
          },
          "metadata": {
            "tags": []
          },
          "execution_count": 15
        }
      ]
    },
    {
      "cell_type": "code",
      "metadata": {
        "colab": {
          "base_uri": "https://localhost:8080/"
        },
        "id": "ZP7NR3LruxBP",
        "outputId": "9b229265-db75-4618-cb5e-3c2802ec4d7b"
      },
      "source": [
        "cols = [col for col in df.columns if col not in ['ds']]\n",
        "print(cols)"
      ],
      "execution_count": null,
      "outputs": [
        {
          "output_type": "stream",
          "text": [
            "['rho_0', 'u_0', 'v_0', 'wa_0', 'rho_1', 'u_1', 'v_1', 'wa_1', 'rho_2', 'u_2', 'v_2', 'wa_2', 'rho_3', 'u_3', 'v_3', 'wa_3', 'rho_4', 'u_4', 'v_4', 'wa_4', 'rho_5', 'u_5', 'v_5', 'wa_5', 'rho_6', 'u_6', 'v_6', 'wa_6', 'rho_7', 'u_7', 'v_7', 'wa_7', 'rho_8', 'u_8', 'v_8', 'wa_8']\n"
          ],
          "name": "stdout"
        }
      ]
    },
    {
      "cell_type": "markdown",
      "metadata": {
        "id": "bOsClijcsY6g"
      },
      "source": [
        "## Time Series Data Aggregation from multiple files"
      ]
    },
    {
      "cell_type": "code",
      "metadata": {
        "colab": {
          "base_uri": "https://localhost:8080/"
        },
        "id": "DSUuruyMsbsW",
        "outputId": "a15eb1b3-dfb5-40b7-e38a-423353504ee1"
      },
      "source": [
        "import os\n",
        "dir='/content/'\n",
        "pattern = 'wrfwindout_d03_1992-01' \n",
        "matching_files = [f for f in os.listdir(dir) if pattern in f]\n",
        "matching_files.sort()\n",
        "print(matching_files)"
      ],
      "execution_count": null,
      "outputs": [
        {
          "output_type": "stream",
          "text": [
            "['wrfwindout_d03_1992-01-01_00_00_00', 'wrfwindout_d03_1992-01-02_00_00_00', 'wrfwindout_d03_1992-01-03_00_00_00', 'wrfwindout_d03_1992-01-04_00_00_00', 'wrfwindout_d03_1992-01-05_00_00_00', 'wrfwindout_d03_1992-01-06_00_00_00', 'wrfwindout_d03_1992-01-07_00_00_00', 'wrfwindout_d03_1992-01-08_00_00_00', 'wrfwindout_d03_1992-01-09_00_00_00', 'wrfwindout_d03_1992-01-10_00_00_00']\n"
          ],
          "name": "stdout"
        }
      ]
    },
    {
      "cell_type": "code",
      "metadata": {
        "id": "1UV6u-j0SRMf"
      },
      "source": [
        "nb_layer = 1\n",
        "i = 100\n",
        "j = 90"
      ],
      "execution_count": null,
      "outputs": []
    },
    {
      "cell_type": "code",
      "metadata": {
        "id": "UOU69vIwTHp9"
      },
      "source": [
        "# Generating the neighboring indices\n",
        "'''\n",
        "Example: when nb_layer = 1:\n",
        "  1 (i-1,j-1)  |  2 (i-1,j)  |   3 (i-1,j+1)\n",
        "-----------------------------------------------\n",
        "  4 (i,  j-1)  |  0 (i,  j)  |   5 (i,  j+1)\n",
        "-----------------------------------------------\n",
        "  6 (i+1,j-1)  |  7 (i+1,j)  |   8 (i+1,j+1)\n",
        " '''\n",
        "nb_list = [[i, j]] # center grid as element 0\n",
        "\n",
        "for nbi in np.arange(-nb_layer, nb_layer+1):\n",
        "  for nbj in np.arange(-nb_layer, nb_layer+1):\n",
        "    if (nbi==0 and nbj==0): continue\n",
        "    nb_list = np.append(nb_list, [[i+nbi, j+nbj]], axis=0)"
      ],
      "execution_count": null,
      "outputs": []
    },
    {
      "cell_type": "code",
      "metadata": {
        "id": "lbAUlJxIxjHM"
      },
      "source": [
        "df = pd.DataFrame() \n",
        "\n",
        "for fn_windout in matching_files:\n",
        "\n",
        "  ds_windout = nc.Dataset(dir+fn_windout)\n",
        "\n",
        "  times = ds_windout['Times'][:]\n",
        "  ts = []\n",
        "  for t in times:\n",
        "    tstr = t.tobytes().decode()\n",
        "    tdts = datetime.strptime(tstr, '%Y-%m-%d_%H:%M:%S')\n",
        "    ts.append(tdts)\n",
        "\n",
        "  rho_hgtm = ds_windout['RHO_HGTM'][:]\n",
        "  u_hgtm = ds_windout['U_HGTM'][:]\n",
        "  v_hgtm = ds_windout['V_HGTM'][:]\n",
        "  wndspd_avg_10m = ds_windout['WNDSPD_AVG_10M'][:]\n",
        "  wndspd_avg_100m = ds_windout['WNDSPD_AVG_100M'][:]\n",
        "\n",
        "  dfi = pd.DataFrame({'ds':ts})\n",
        "\n",
        "  for idx in range(len(nb_list)):\n",
        "    ci = nb_list[idx]\n",
        "    rho = rho_hgtm[:, ci[0], ci[1]]\n",
        "    u = u_hgtm[:, ci[0], ci[1]]\n",
        "    v = v_hgtm[:, ci[0], ci[1]]\n",
        "    wa = wndspd_avg_10m[:, ci[0], ci[1]]\n",
        "    dfi['rho_'+str(idx)] = rho\n",
        "    dfi['u_'+str(idx)] = u\n",
        "    dfi['v_'+str(idx)] = v\n",
        "    dfi['wa_'+str(idx)] = wa\n",
        "\n",
        "  df = df.append(dfi, ignore_index=True)\n",
        "df.to_csv('wrfts1.csv', index=False)"
      ],
      "execution_count": null,
      "outputs": []
    },
    {
      "cell_type": "code",
      "metadata": {
        "colab": {
          "base_uri": "https://localhost:8080/",
          "height": 303
        },
        "id": "2KshnD2Iztqn",
        "outputId": "c17cf654-31f3-4569-c185-a2e87bfd73ed"
      },
      "source": [
        "df.plot(x='ds', y='rho_0')\n",
        "plt.xlabel('Time')\n",
        "plt.ylabel(\"Wind Avg Speed 10M\")\n",
        "plt.legend(['WRF Calculation'])\n",
        "plt.show()"
      ],
      "execution_count": null,
      "outputs": [
        {
          "output_type": "display_data",
          "data": {
            "image/png": "[encoded data removed]",
            "text/plain": [
              "<Figure size 432x288 with 1 Axes>"
            ]
          },
          "metadata": {
            "tags": [],
            "needs_background": "light"
          }
        }
      ]
    },
    {
      "cell_type": "markdown",
      "metadata": {
        "id": "oPmYHJ9Lxmk_"
      },
      "source": [
        "## Check the wrfout file"
      ]
    },
    {
      "cell_type": "code",
      "metadata": {
        "colab": {
          "base_uri": "https://localhost:8080/"
        },
        "id": "ZuDq8K_AO6cn",
        "outputId": "13f5d476-8b96-4991-e37a-bd03e9c809a0"
      },
      "source": [
        "!wget https://s3.us-east-2.amazonaws.com/wrfwindout.d03.1992-01-01/wrftest/wrfout_d03_1992-01-01_00_00_00"
      ],
      "execution_count": null,
      "outputs": [
        {
          "output_type": "stream",
          "text": [
            "--2021-02-23 18:52:43--  https://s3.us-east-2.amazonaws.com/wrfwindout.d03.1992-01-01/wrftest/wrfout_d03_1992-01-01_00_00_00\n",
            "Resolving s3.us-east-2.amazonaws.com (s3.us-east-2.amazonaws.com)... 52.219.97.49\n",
            "Connecting to s3.us-east-2.amazonaws.com (s3.us-east-2.amazonaws.com)|52.219.97.49|:443... connected.\n",
            "HTTP request sent, awaiting response... 200 OK\n",
            "Length: 146475424 (140M) [application/x-www-form-urlencoded]\n",
            "Saving to: ‘wrfout_d03_1992-01-01_00_00_00’\n",
            "\n",
            "wrfout_d03_1992-01- 100%[===================>] 139.69M  30.5MB/s    in 5.2s    \n",
            "\n",
            "2021-02-23 18:52:49 (26.8 MB/s) - ‘wrfout_d03_1992-01-01_00_00_00’ saved [146475424/146475424]\n",
            "\n"
          ],
          "name": "stdout"
        }
      ]
    },
    {
      "cell_type": "code",
      "metadata": {
        "colab": {
          "base_uri": "https://localhost:8080/"
        },
        "id": "dOoMceQCjF-7",
        "outputId": "490b7228-7228-4376-9eb5-939720e500fc"
      },
      "source": [
        "fn_out = \"/content/wrfout_d03_1992-01-01_00_00_00\"\n",
        "ds_out = nc.Dataset(fn_out)\n",
        "ds_out"
      ],
      "execution_count": null,
      "outputs": [
        {
          "output_type": "execute_result",
          "data": {
            "text/plain": [
              "<class 'netCDF4._netCDF4.Dataset'>\n",
              "root group (NETCDF3_CLASSIC data model, file format NETCDF3):\n",
              "    TITLE:  OUTPUT FROM WRF V3.2 MODEL\n",
              "    START_DATE: 1991-12-30_23:20:00\n",
              "    SIMULATION_START_DATE: 1991-08-30_00:00:00\n",
              "    WEST-EAST_GRID_DIMENSION: 139\n",
              "    SOUTH-NORTH_GRID_DIMENSION: 145\n",
              "    BOTTOM-TOP_GRID_DIMENSION: 44\n",
              "    DX: 2000.0\n",
              "    DY: 2000.0\n",
              "    GRIDTYPE: C\n",
              "    DIFF_OPT: 1\n",
              "    KM_OPT: 4\n",
              "    DAMP_OPT: 0\n",
              "    DAMPCOEF: 0.01\n",
              "    KHDIF: 0.0\n",
              "    KVDIF: 0.0\n",
              "    MP_PHYSICS: 2\n",
              "    RA_LW_PHYSICS: 1\n",
              "    RA_SW_PHYSICS: 1\n",
              "    SF_SFCLAY_PHYSICS: 1\n",
              "    SF_SURFACE_PHYSICS: 2\n",
              "    BL_PBL_PHYSICS: 1\n",
              "    CU_PHYSICS: 0\n",
              "    SURFACE_INPUT_SOURCE: 1\n",
              "    SST_UPDATE: 1\n",
              "    GRID_FDDA: 0\n",
              "    GFDDA_INTERVAL_M: 0\n",
              "    GFDDA_END_H: 0\n",
              "    GRID_SFDDA: 0\n",
              "    SGFDDA_INTERVAL_M: 0\n",
              "    SGFDDA_END_H: 0\n",
              "    SF_URBAN_PHYSICS: 1\n",
              "    FEEDBACK: 0\n",
              "    SMOOTH_OPTION: 2\n",
              "    SWRAD_SCAT: 1.0\n",
              "    W_DAMPING: 1\n",
              "    MOIST_ADV_OPT: 1\n",
              "    SCALAR_ADV_OPT: 1\n",
              "    TKE_ADV_OPT: 1\n",
              "    DIFF_6TH_OPT: 0\n",
              "    DIFF_6TH_FACTOR: 0.12\n",
              "    OBS_NUDGE_OPT: 0\n",
              "    BUCKET_MM: -1.0\n",
              "    BUCKET_J: -1.0\n",
              "    PREC_ACC_DT: 0.0\n",
              "    OMLCALL: 0\n",
              "    ISFTCFLX: 0\n",
              "    WEST-EAST_PATCH_START_UNSTAG: 1\n",
              "    WEST-EAST_PATCH_END_UNSTAG: 138\n",
              "    WEST-EAST_PATCH_START_STAG: 1\n",
              "    WEST-EAST_PATCH_END_STAG: 139\n",
              "    SOUTH-NORTH_PATCH_START_UNSTAG: 1\n",
              "    SOUTH-NORTH_PATCH_END_UNSTAG: 144\n",
              "    SOUTH-NORTH_PATCH_START_STAG: 1\n",
              "    SOUTH-NORTH_PATCH_END_STAG: 145\n",
              "    BOTTOM-TOP_PATCH_START_UNSTAG: 1\n",
              "    BOTTOM-TOP_PATCH_END_UNSTAG: 43\n",
              "    BOTTOM-TOP_PATCH_START_STAG: 1\n",
              "    BOTTOM-TOP_PATCH_END_STAG: 44\n",
              "    GRID_ID: 3\n",
              "    PARENT_ID: 2\n",
              "    I_PARENT_START: 16\n",
              "    J_PARENT_START: 22\n",
              "    PARENT_GRID_RATIO: 3\n",
              "    DT: 6.6666665\n",
              "    CEN_LAT: 34.278465\n",
              "    CEN_LON: -118.332825\n",
              "    TRUELAT1: 34.0\n",
              "    TRUELAT2: 40.0\n",
              "    MOAD_CEN_LAT: 35.999996\n",
              "    STAND_LON: -60.0\n",
              "    POLE_LAT: 90.0\n",
              "    POLE_LON: 0.0\n",
              "    GMT: 0.0\n",
              "    JULYR: 1991\n",
              "    JULDAY: 335\n",
              "    MAP_PROJ: 1\n",
              "    MMINLU: USGS\n",
              "    NUM_LAND_CAT: 24\n",
              "    ISWATER: 16\n",
              "    ISLAKE: -1\n",
              "    ISICE: 24\n",
              "    ISURBAN: 1\n",
              "    ISOILWATER: 14\n",
              "    dimensions(sizes): Time(4), DateStrLen(19), west_east(138), south_north(144), bottom_top(43), bottom_top_stag(44), soil_layers_stag(4), west_east_stag(139), south_north_stag(145)\n",
              "    variables(dimensions): |S1 Times(Time, DateStrLen), float32 LU_INDEX(Time, south_north, west_east), float32 ZNU(Time, bottom_top), float32 ZNW(Time, bottom_top_stag), float32 ZS(Time, soil_layers_stag), float32 DZS(Time, soil_layers_stag), float32 U(Time, bottom_top, south_north, west_east_stag), float32 V(Time, bottom_top, south_north_stag, west_east), float32 W(Time, bottom_top_stag, south_north, west_east), float32 PH(Time, bottom_top_stag, south_north, west_east), float32 PHB(Time, bottom_top_stag, south_north, west_east), float32 T(Time, bottom_top, south_north, west_east), float32 P(Time, bottom_top, south_north, west_east), float32 PB(Time, bottom_top, south_north, west_east), float32 FNM(Time, bottom_top), float32 FNP(Time, bottom_top), float32 RDNW(Time, bottom_top), float32 RDN(Time, bottom_top), float32 DNW(Time, bottom_top), float32 DN(Time, bottom_top), float32 CFN(Time), float32 CFN1(Time), float32 TH2(Time, south_north, west_east), float32 RDX(Time), float32 RDY(Time), float32 RESM(Time), float32 ZETATOP(Time), float32 CF1(Time), float32 CF2(Time), float32 CF3(Time), int32 ITIMESTEP(Time), float32 XTIME(Time), float32 QVAPOR(Time, bottom_top, south_north, west_east), float32 QCLOUD(Time, bottom_top, south_north, west_east), float32 SFROFF(Time, south_north, west_east), float32 UDROFF(Time, south_north, west_east), float32 GRDFLX(Time, south_north, west_east), float32 SNOWH(Time, south_north, west_east), float32 SST(Time, south_north, west_east), float32 SSTSK(Time, south_north, west_east), float32 TSK(Time, south_north, west_east), float32 P_TOP(Time), float32 T00(Time), float32 P00(Time), float32 TLP(Time), float32 TISO(Time), float32 MAX_MSTFX(Time), float32 MAX_MSTFY(Time), float32 SWDOWN(Time, south_north, west_east), float32 GLW(Time, south_north, west_east), float32 OLR(Time, south_north, west_east), float32 ALBEDO(Time, south_north, west_east), float32 ALBBCK(Time, south_north, west_east), float32 EMISS(Time, south_north, west_east), float32 NOAHRES(Time, south_north, west_east), float32 UST(Time, south_north, west_east), float32 PBLH(Time, south_north, west_east), float32 HFX(Time, south_north, west_east), float32 QFX(Time, south_north, west_east), float32 LH(Time, south_north, west_east), float32 ACHFX(Time, south_north, west_east), float32 ACLHF(Time, south_north, west_east), float32 SR(Time, south_north, west_east), float32 POTEVP(Time, south_north, west_east), float32 SNOPCX(Time, south_north, west_east), float32 SOILTB(Time, south_north, west_east), int32 SAVE_TOPO_FROM_REAL(Time)\n",
              "    groups: "
            ]
          },
          "metadata": {
            "tags": []
          },
          "execution_count": 24
        }
      ]
    },
    {
      "cell_type": "code",
      "metadata": {
        "colab": {
          "base_uri": "https://localhost:8080/"
        },
        "id": "bA0fyzsYjz_C",
        "outputId": "b757b80f-68f0-4f50-de15-7c75f57cf3db"
      },
      "source": [
        "u = ds_out['U'][:]\n",
        "u.shape"
      ],
      "execution_count": null,
      "outputs": [
        {
          "output_type": "execute_result",
          "data": {
            "text/plain": [
              "(4, 43, 144, 139)"
            ]
          },
          "metadata": {
            "tags": []
          },
          "execution_count": 25
        }
      ]
    },
    {
      "cell_type": "code",
      "metadata": {
        "colab": {
          "base_uri": "https://localhost:8080/"
        },
        "id": "Nz9SEQpppzXZ",
        "outputId": "1e0b116d-26bf-443f-dbeb-fa4a23c6a101"
      },
      "source": [
        "u[1, 2, 100, 120]"
      ],
      "execution_count": null,
      "outputs": [
        {
          "output_type": "execute_result",
          "data": {
            "text/plain": [
              "-7.9661336"
            ]
          },
          "metadata": {
            "tags": []
          },
          "execution_count": 26
        }
      ]
    }
  ]
}